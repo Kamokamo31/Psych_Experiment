{
 "cells": [
  {
   "cell_type": "markdown",
   "metadata": {},
   "source": [
    "# MTurk\n",
    "\n",
    "This notebook is to explain how to set up MTurk, especially how to link MTurk and Qualtrics."
   ]
  },
  {
   "cell_type": "markdown",
   "metadata": {},
   "source": [
    "## Step 1. Oragnize Survey Flow\n",
    "\n",
    "Before we link MTurk to Qualtrics, we need to create `web service` on Qualtrics survey flow. This should be the first step on your survey.\n",
    "\n",
    "Adding things below step by step. \n",
    "\n",
    "1. `URL`: http://reporting.qualtrics.com/projects/randomNumGen.php\n",
    "\n",
    "2. `Qualtric paramters`:\n",
    "  - min = 1\n",
    "  - max = 9999999\n",
    "  \n",
    "\n",
    "3. `set embedded data`:\n",
    "  - MTurkCode = Random\n",
    "  \n",
    "  \n",
    "\n",
    "\n"
   ]
  },
  {
   "cell_type": "markdown",
   "metadata": {},
   "source": [
    "## Step 2. Consent Form\n",
    "\n",
    "1. After creating `web service` on Qualtrics, you need to put your `consent form`. \n",
    "\n",
    "2. Then, you make two `IF` blocks whether the survey allow participants to take the survey or not. \n",
    "  - `NO`\n",
    "    - When the participants choose `No`, we need to end the survey. So add `End of Survey`, and make it `customize`. \n",
    "    - Click the third button (Custom) and select \"my library\" and click \"New message\". Because you need to create \"message\" when the participants don't want to take the survey. You can also add or edit on the \"Library\" tab on the right top, and go to \"Message Library\". \n",
    "    - Create the message like this: Thank you for considering this experiment!\n",
    "    - Set font and size. \n",
    "\n",
    "\n",
    "\n",
    "  - `YES`\n",
    "    - When the participants choose `Yes`, it will lead them to take the survey. \n",
    "    - But we need to add `End of Survey` on the last list of this survey flow. So, go to the bottom, and add `End ot Survey`\n",
    "    - In this case, we create the same block like \"No\" case, and create the message for Yes case. \n",
    "    - Add this message for Yes case. \n",
    "    - Set font and size\n",
    "    \n",
    "            Thank you for participating!\n",
    "            Your validation code is:  \n",
    "            ${e://Field/mTurkCode}\n",
    "            \n",
    "            To receive payment for participating, click \"Accept HIT\" in the Mechanical Turk window, enter this validation code, then click \"Submit\".\n",
    "            \n",
    "            \n",
    "\n",
    "3. Check out if survey wouldn't mess up. Executing `preview` and see if the survey flow is correct, and it shows the right code for MTurk. \n",
    "    "
   ]
  },
  {
   "cell_type": "markdown",
   "metadata": {},
   "source": [
    "## Step 3. Create your survey flow\n",
    "\n",
    "After setting up those things above, you can set your survery flow on it. Don't mess up because Qualtrics doesn't allow you to do fancy things like dragging stuffs, so you need to make your survey flow very cafefully. \n",
    "\n",
    "`Tip`: I coded every single block according to the survey flow. So you can find out which one should come to next on the survey flow. "
   ]
  },
  {
   "cell_type": "markdown",
   "metadata": {},
   "source": [
    "## Step 4. MTurk\n",
    "\n",
    "Professor might want you to make `sandbox` before you run your experiment on MTurk. `sandbox` is the same enviroment as `MTurk`, so you can create the same experiment on it. \n",
    "\n",
    "\n",
    "1. Go to `New Project`\n",
    "2. Go to `Survey link`, because we use Qualtrics. \n",
    "3. Click `create survey`\n",
    "4. `Project Name` could be whatever you want. \n",
    "5. But `Title` should be the same title when you submit to IRB protocol. Also, `Description` too\n",
    "6. Check `Master Workers`\n",
    "7. `Design Layout` should be the same it on your IRB protocol. \n",
    "8. Add `Survey link`\n",
    "    For Survey link, when you publish your survey on Qualtrics at first time, it will give you your survey link. Also, you can check your link on `Distribution` tab, `Anonymous Survey Link` and you can copy and paste it to `Survey link`. \n",
    "9. Preview and Finish!\n"
   ]
  },
  {
   "cell_type": "markdown",
   "metadata": {},
   "source": [
    "## Step 5. Data\n",
    "\n",
    "MTurk doens't provide you data. You always can find out your data on `Data and Analysis` tab on Qualtrics. \n",
    "\n",
    "The thing you have to keep in mind is when you download the data and look it up, it sometimes says whether the data is `survery data` or not. But, if you use `sandbox` before you publish your survey on Mturk, and you use preview on it, the data will be stored on your dataset. But it doesn't let you know whether it is preview data or not. \n",
    "\n",
    "So, for me, before when I publish it on MTurk, I check the dataset or do not publish it right away after seeing preview. \n",
    "\n"
   ]
  },
  {
   "cell_type": "code",
   "execution_count": null,
   "metadata": {},
   "outputs": [],
   "source": []
  }
 ],
 "metadata": {
  "kernelspec": {
   "display_name": "Python 3",
   "language": "python",
   "name": "python3"
  },
  "language_info": {
   "codemirror_mode": {
    "name": "ipython",
    "version": 3
   },
   "file_extension": ".py",
   "mimetype": "text/x-python",
   "name": "python",
   "nbconvert_exporter": "python",
   "pygments_lexer": "ipython3",
   "version": "3.7.6"
  }
 },
 "nbformat": 4,
 "nbformat_minor": 4
}
